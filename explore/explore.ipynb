{
 "cells": [
  {
   "cell_type": "code",
   "execution_count": 1,
   "metadata": {},
   "outputs": [
    {
     "name": "stdout",
     "output_type": "stream",
     "text": [
      "3.9.19\n"
     ]
    }
   ],
   "source": [
    "from platform import python_version\n",
    "\n",
    "print(python_version())"
   ]
  },
  {
   "cell_type": "code",
   "execution_count": 16,
   "metadata": {},
   "outputs": [
    {
     "name": "stdout",
     "output_type": "stream",
     "text": [
      "--2024-04-01 23:29:18--  https://data.ct.gov/api/views/5mzw-sjtu/rows.csv?accessType=DOWNLOAD\n",
      "Resolving data.ct.gov (data.ct.gov)... 52.206.68.26, 52.206.140.199, 52.206.140.205\n",
      "Connecting to data.ct.gov (data.ct.gov)|52.206.68.26|:443... connected.\n",
      "HTTP request sent, awaiting response... 200 OK\n",
      "Length: unspecified [text/csv]\n",
      "Saving to: ‘rows.csv?accessType=DOWNLOAD’\n",
      "\n",
      "rows.csv?accessType     [     <=>            ] 113,24M  3,42MB/s    in 35s     \n",
      "\n",
      "2024-04-01 23:29:53 (3,24 MB/s) - ‘rows.csv?accessType=DOWNLOAD’ saved [118737237]\n",
      "\n"
     ]
    }
   ],
   "source": [
    "#!wget https://s3.amazonaws.com/tripdata/JC-202301-citibike-tripdata.csv.zip\n",
    "!wget https://data.ct.gov/api/views/5mzw-sjtu/rows.csv?accessType=DOWNLOAD"
   ]
  },
  {
   "cell_type": "code",
   "execution_count": null,
   "metadata": {},
   "outputs": [],
   "source": [
    "!unzip JC-202301-citibike-tripdata.csv.zip"
   ]
  },
  {
   "cell_type": "code",
   "execution_count": 28,
   "metadata": {},
   "outputs": [],
   "source": [
    "import pandas as pd\n",
    "from sqlalchemy import create_engine\n",
    "import io\n",
    "import os\n",
    "import requests\n",
    "import pymysql\n",
    "import os\n",
    "import zipfile\n",
    "import seaborn as sns\n",
    "import matplotlib.pyplot as plt\n",
    "import pyarrow as pa\n",
    "import pyarrow.parquet as pq"
   ]
  },
  {
   "cell_type": "code",
   "execution_count": 3,
   "metadata": {},
   "outputs": [
    {
     "name": "stderr",
     "output_type": "stream",
     "text": [
      "/tmp/ipykernel_6622/3371070715.py:1: DtypeWarning: Columns (8,9,10,11,12) have mixed types. Specify dtype option on import or set low_memory=False.\n",
      "  df = pd.read_csv(\"data/rows.csv\")\n"
     ]
    }
   ],
   "source": [
    "df = pd.read_csv(\"data/rows.csv\")"
   ]
  },
  {
   "cell_type": "code",
   "execution_count": 21,
   "metadata": {},
   "outputs": [
    {
     "data": {
      "text/html": [
       "<div>\n",
       "<style scoped>\n",
       "    .dataframe tbody tr th:only-of-type {\n",
       "        vertical-align: middle;\n",
       "    }\n",
       "\n",
       "    .dataframe tbody tr th {\n",
       "        vertical-align: top;\n",
       "    }\n",
       "\n",
       "    .dataframe thead th {\n",
       "        text-align: right;\n",
       "    }\n",
       "</style>\n",
       "<table border=\"1\" class=\"dataframe\">\n",
       "  <thead>\n",
       "    <tr style=\"text-align: right;\">\n",
       "      <th></th>\n",
       "      <th>Serial Number</th>\n",
       "      <th>List Year</th>\n",
       "      <th>Date Recorded</th>\n",
       "      <th>Town</th>\n",
       "      <th>Address</th>\n",
       "      <th>Assessed Value</th>\n",
       "      <th>Sale Amount</th>\n",
       "      <th>Sales Ratio</th>\n",
       "      <th>Property Type</th>\n",
       "      <th>Residential Type</th>\n",
       "      <th>Non Use Code</th>\n",
       "      <th>Assessor Remarks</th>\n",
       "      <th>OPM remarks</th>\n",
       "      <th>Location</th>\n",
       "    </tr>\n",
       "  </thead>\n",
       "  <tbody>\n",
       "    <tr>\n",
       "      <th>0</th>\n",
       "      <td>2020348</td>\n",
       "      <td>2020</td>\n",
       "      <td>09/13/2021</td>\n",
       "      <td>Ansonia</td>\n",
       "      <td>230 WAKELEE AVE</td>\n",
       "      <td>150500.0</td>\n",
       "      <td>325000.0</td>\n",
       "      <td>0.4630</td>\n",
       "      <td>Commercial</td>\n",
       "      <td>NaN</td>\n",
       "      <td>NaN</td>\n",
       "      <td>NaN</td>\n",
       "      <td>NaN</td>\n",
       "      <td>NaN</td>\n",
       "    </tr>\n",
       "    <tr>\n",
       "      <th>1</th>\n",
       "      <td>20002</td>\n",
       "      <td>2020</td>\n",
       "      <td>10/02/2020</td>\n",
       "      <td>Ashford</td>\n",
       "      <td>390 TURNPIKE RD</td>\n",
       "      <td>253000.0</td>\n",
       "      <td>430000.0</td>\n",
       "      <td>0.5883</td>\n",
       "      <td>Residential</td>\n",
       "      <td>Single Family</td>\n",
       "      <td>NaN</td>\n",
       "      <td>NaN</td>\n",
       "      <td>NaN</td>\n",
       "      <td>NaN</td>\n",
       "    </tr>\n",
       "    <tr>\n",
       "      <th>2</th>\n",
       "      <td>210317</td>\n",
       "      <td>2021</td>\n",
       "      <td>07/05/2022</td>\n",
       "      <td>Avon</td>\n",
       "      <td>53 COTSWOLD WAY</td>\n",
       "      <td>329730.0</td>\n",
       "      <td>805000.0</td>\n",
       "      <td>0.4096</td>\n",
       "      <td>Residential</td>\n",
       "      <td>Single Family</td>\n",
       "      <td>NaN</td>\n",
       "      <td>NaN</td>\n",
       "      <td>NaN</td>\n",
       "      <td>POINT (-72.846365959 41.781677018)</td>\n",
       "    </tr>\n",
       "    <tr>\n",
       "      <th>3</th>\n",
       "      <td>200212</td>\n",
       "      <td>2020</td>\n",
       "      <td>03/09/2021</td>\n",
       "      <td>Avon</td>\n",
       "      <td>5 CHESTNUT DRIVE</td>\n",
       "      <td>130400.0</td>\n",
       "      <td>179900.0</td>\n",
       "      <td>0.7248</td>\n",
       "      <td>Residential</td>\n",
       "      <td>Condo</td>\n",
       "      <td>NaN</td>\n",
       "      <td>NaN</td>\n",
       "      <td>NaN</td>\n",
       "      <td>NaN</td>\n",
       "    </tr>\n",
       "    <tr>\n",
       "      <th>4</th>\n",
       "      <td>200243</td>\n",
       "      <td>2020</td>\n",
       "      <td>04/13/2021</td>\n",
       "      <td>Avon</td>\n",
       "      <td>111 NORTHINGTON DRIVE</td>\n",
       "      <td>619290.0</td>\n",
       "      <td>890000.0</td>\n",
       "      <td>0.6958</td>\n",
       "      <td>Residential</td>\n",
       "      <td>Single Family</td>\n",
       "      <td>NaN</td>\n",
       "      <td>NaN</td>\n",
       "      <td>NaN</td>\n",
       "      <td>NaN</td>\n",
       "    </tr>\n",
       "  </tbody>\n",
       "</table>\n",
       "</div>"
      ],
      "text/plain": [
       "   Serial Number  List Year Date Recorded     Town                Address  \\\n",
       "0        2020348       2020    09/13/2021  Ansonia        230 WAKELEE AVE   \n",
       "1          20002       2020    10/02/2020  Ashford        390 TURNPIKE RD   \n",
       "2         210317       2021    07/05/2022     Avon        53 COTSWOLD WAY   \n",
       "3         200212       2020    03/09/2021     Avon       5 CHESTNUT DRIVE   \n",
       "4         200243       2020    04/13/2021     Avon  111 NORTHINGTON DRIVE   \n",
       "\n",
       "   Assessed Value  Sale Amount  Sales Ratio Property Type Residential Type  \\\n",
       "0        150500.0     325000.0       0.4630    Commercial              NaN   \n",
       "1        253000.0     430000.0       0.5883   Residential    Single Family   \n",
       "2        329730.0     805000.0       0.4096   Residential    Single Family   \n",
       "3        130400.0     179900.0       0.7248   Residential            Condo   \n",
       "4        619290.0     890000.0       0.6958   Residential    Single Family   \n",
       "\n",
       "  Non Use Code Assessor Remarks OPM remarks  \\\n",
       "0          NaN              NaN         NaN   \n",
       "1          NaN              NaN         NaN   \n",
       "2          NaN              NaN         NaN   \n",
       "3          NaN              NaN         NaN   \n",
       "4          NaN              NaN         NaN   \n",
       "\n",
       "                             Location  \n",
       "0                                 NaN  \n",
       "1                                 NaN  \n",
       "2  POINT (-72.846365959 41.781677018)  \n",
       "3                                 NaN  \n",
       "4                                 NaN  "
      ]
     },
     "metadata": {},
     "output_type": "display_data"
    }
   ],
   "source": [
    "display(df.head())"
   ]
  },
  {
   "cell_type": "code",
   "execution_count": 22,
   "metadata": {},
   "outputs": [
    {
     "data": {
      "text/plain": [
       "Serial Number         int64\n",
       "List Year             int64\n",
       "Date Recorded        object\n",
       "Town                 object\n",
       "Address              object\n",
       "Assessed Value      float64\n",
       "Sale Amount         float64\n",
       "Sales Ratio         float64\n",
       "Property Type        object\n",
       "Residential Type     object\n",
       "Non Use Code         object\n",
       "Assessor Remarks     object\n",
       "OPM remarks          object\n",
       "Location             object\n",
       "dtype: object"
      ]
     },
     "execution_count": 22,
     "metadata": {},
     "output_type": "execute_result"
    }
   ],
   "source": [
    "df.dtypes"
   ]
  },
  {
   "cell_type": "code",
   "execution_count": 3,
   "metadata": {},
   "outputs": [],
   "source": [
    "dtypes = {\n",
    "    \"Serial Number\": int,\n",
    "    \"List Year\": int,\n",
    "    \"Town\": str,\n",
    "    \"Address\": str,\n",
    "    \"Assessed Value\": float,\n",
    "    \"Sale Amount\": float,\n",
    "    \"Sales Ratio\": float,\n",
    "    \"Property Type\": str,\n",
    "    \"Residential Type\": str,\n",
    "    \"Non Use Code\": str,\n",
    "    \"Assessor Remarks\": str,\n",
    "    \"OPM remarks\": str,\n",
    "    \"Location\": str\n",
    "        }\n",
    "\n",
    "parse_dates = ['Date Recorded']"
   ]
  },
  {
   "cell_type": "code",
   "execution_count": 4,
   "metadata": {},
   "outputs": [
    {
     "name": "stdout",
     "output_type": "stream",
     "text": [
      "CREATE TABLE \"real_state\" (\n",
      "\"Serial Number\" INTEGER,\n",
      "  \"List Year\" INTEGER,\n",
      "  \"Date Recorded\" TEXT,\n",
      "  \"Town\" TEXT,\n",
      "  \"Address\" TEXT,\n",
      "  \"Assessed Value\" REAL,\n",
      "  \"Sale Amount\" REAL,\n",
      "  \"Sales Ratio\" REAL,\n",
      "  \"Property Type\" TEXT,\n",
      "  \"Residential Type\" TEXT,\n",
      "  \"Non Use Code\" TEXT,\n",
      "  \"Assessor Remarks\" TEXT,\n",
      "  \"OPM remarks\" TEXT,\n",
      "  \"Location\" TEXT\n",
      ")\n"
     ]
    }
   ],
   "source": [
    "print(pd.io.sql.get_schema(df, name='real_state'))"
   ]
  },
  {
   "cell_type": "code",
   "execution_count": 18,
   "metadata": {},
   "outputs": [],
   "source": [
    "url = \"./data/rows.csv\"\n",
    "df_mod = pd.read_csv(url, sep=\",\", dtype=dtypes, parse_dates=parse_dates)"
   ]
  },
  {
   "cell_type": "code",
   "execution_count": 19,
   "metadata": {},
   "outputs": [
    {
     "data": {
      "text/plain": [
       "1054159"
      ]
     },
     "execution_count": 19,
     "metadata": {},
     "output_type": "execute_result"
    }
   ],
   "source": [
    "len(df_mod)"
   ]
  },
  {
   "cell_type": "code",
   "execution_count": 20,
   "metadata": {},
   "outputs": [],
   "source": [
    "# Convert column names to lowercase\n",
    "df_mod.columns = df_mod.columns.str.lower()\n",
    "\n",
    "# Convert column names to snake case\n",
    "df_mod.columns = df_mod.columns.str.replace(' ', '_')"
   ]
  },
  {
   "cell_type": "code",
   "execution_count": 21,
   "metadata": {},
   "outputs": [
    {
     "data": {
      "text/plain": [
       "serial_number                int64\n",
       "list_year                    int64\n",
       "date_recorded       datetime64[ns]\n",
       "town                        object\n",
       "address                     object\n",
       "assessed_value             float64\n",
       "sale_amount                float64\n",
       "sales_ratio                float64\n",
       "property_type               object\n",
       "residential_type            object\n",
       "non_use_code                object\n",
       "assessor_remarks            object\n",
       "opm_remarks                 object\n",
       "location                    object\n",
       "dtype: object"
      ]
     },
     "execution_count": 21,
     "metadata": {},
     "output_type": "execute_result"
    }
   ],
   "source": [
    "df_mod.dtypes"
   ]
  },
  {
   "cell_type": "code",
   "execution_count": 22,
   "metadata": {},
   "outputs": [],
   "source": [
    "df_mod = df_mod.loc[:, ~df_mod.columns.isin(['serial_number','location','opm_remarks', 'assessor_remarks', 'non_use_code'])]"
   ]
  },
  {
   "cell_type": "code",
   "execution_count": 23,
   "metadata": {},
   "outputs": [
    {
     "data": {
      "text/plain": [
       "list_year                    int64\n",
       "date_recorded       datetime64[ns]\n",
       "town                        object\n",
       "address                     object\n",
       "assessed_value             float64\n",
       "sale_amount                float64\n",
       "sales_ratio                float64\n",
       "property_type               object\n",
       "residential_type            object\n",
       "dtype: object"
      ]
     },
     "execution_count": 23,
     "metadata": {},
     "output_type": "execute_result"
    }
   ],
   "source": [
    "df_mod.dtypes"
   ]
  },
  {
   "cell_type": "code",
   "execution_count": 24,
   "metadata": {},
   "outputs": [
    {
     "data": {
      "text/html": [
       "<div>\n",
       "<style scoped>\n",
       "    .dataframe tbody tr th:only-of-type {\n",
       "        vertical-align: middle;\n",
       "    }\n",
       "\n",
       "    .dataframe tbody tr th {\n",
       "        vertical-align: top;\n",
       "    }\n",
       "\n",
       "    .dataframe thead th {\n",
       "        text-align: right;\n",
       "    }\n",
       "</style>\n",
       "<table border=\"1\" class=\"dataframe\">\n",
       "  <thead>\n",
       "    <tr style=\"text-align: right;\">\n",
       "      <th></th>\n",
       "      <th>list_year</th>\n",
       "      <th>date_recorded</th>\n",
       "      <th>assessed_value</th>\n",
       "      <th>sale_amount</th>\n",
       "      <th>sales_ratio</th>\n",
       "    </tr>\n",
       "  </thead>\n",
       "  <tbody>\n",
       "    <tr>\n",
       "      <th>count</th>\n",
       "      <td>1.054159e+06</td>\n",
       "      <td>1054157</td>\n",
       "      <td>1.054159e+06</td>\n",
       "      <td>1.054159e+06</td>\n",
       "      <td>1.054159e+06</td>\n",
       "    </tr>\n",
       "    <tr>\n",
       "      <th>mean</th>\n",
       "      <td>2.010774e+03</td>\n",
       "      <td>2012-01-18 05:11:54.452591360</td>\n",
       "      <td>2.797416e+05</td>\n",
       "      <td>3.990286e+05</td>\n",
       "      <td>9.953241e+00</td>\n",
       "    </tr>\n",
       "    <tr>\n",
       "      <th>min</th>\n",
       "      <td>2.001000e+03</td>\n",
       "      <td>1999-04-05 00:00:00</td>\n",
       "      <td>0.000000e+00</td>\n",
       "      <td>0.000000e+00</td>\n",
       "      <td>0.000000e+00</td>\n",
       "    </tr>\n",
       "    <tr>\n",
       "      <th>25%</th>\n",
       "      <td>2.004000e+03</td>\n",
       "      <td>2005-09-16 00:00:00</td>\n",
       "      <td>8.845000e+04</td>\n",
       "      <td>1.422000e+05</td>\n",
       "      <td>4.816008e-01</td>\n",
       "    </tr>\n",
       "    <tr>\n",
       "      <th>50%</th>\n",
       "      <td>2.011000e+03</td>\n",
       "      <td>2011-12-02 00:00:00</td>\n",
       "      <td>1.395800e+05</td>\n",
       "      <td>2.300000e+05</td>\n",
       "      <td>6.162887e-01</td>\n",
       "    </tr>\n",
       "    <tr>\n",
       "      <th>75%</th>\n",
       "      <td>2.017000e+03</td>\n",
       "      <td>2018-02-14 00:00:00</td>\n",
       "      <td>2.270000e+05</td>\n",
       "      <td>3.700000e+05</td>\n",
       "      <td>7.764000e-01</td>\n",
       "    </tr>\n",
       "    <tr>\n",
       "      <th>max</th>\n",
       "      <td>2.021000e+03</td>\n",
       "      <td>2022-09-30 00:00:00</td>\n",
       "      <td>8.815100e+08</td>\n",
       "      <td>5.000000e+09</td>\n",
       "      <td>1.226420e+06</td>\n",
       "    </tr>\n",
       "    <tr>\n",
       "      <th>std</th>\n",
       "      <td>6.540711e+00</td>\n",
       "      <td>NaN</td>\n",
       "      <td>1.650117e+06</td>\n",
       "      <td>5.229758e+06</td>\n",
       "      <td>1.838434e+03</td>\n",
       "    </tr>\n",
       "  </tbody>\n",
       "</table>\n",
       "</div>"
      ],
      "text/plain": [
       "          list_year                  date_recorded  assessed_value  \\\n",
       "count  1.054159e+06                        1054157    1.054159e+06   \n",
       "mean   2.010774e+03  2012-01-18 05:11:54.452591360    2.797416e+05   \n",
       "min    2.001000e+03            1999-04-05 00:00:00    0.000000e+00   \n",
       "25%    2.004000e+03            2005-09-16 00:00:00    8.845000e+04   \n",
       "50%    2.011000e+03            2011-12-02 00:00:00    1.395800e+05   \n",
       "75%    2.017000e+03            2018-02-14 00:00:00    2.270000e+05   \n",
       "max    2.021000e+03            2022-09-30 00:00:00    8.815100e+08   \n",
       "std    6.540711e+00                            NaN    1.650117e+06   \n",
       "\n",
       "        sale_amount   sales_ratio  \n",
       "count  1.054159e+06  1.054159e+06  \n",
       "mean   3.990286e+05  9.953241e+00  \n",
       "min    0.000000e+00  0.000000e+00  \n",
       "25%    1.422000e+05  4.816008e-01  \n",
       "50%    2.300000e+05  6.162887e-01  \n",
       "75%    3.700000e+05  7.764000e-01  \n",
       "max    5.000000e+09  1.226420e+06  \n",
       "std    5.229758e+06  1.838434e+03  "
      ]
     },
     "execution_count": 24,
     "metadata": {},
     "output_type": "execute_result"
    }
   ],
   "source": [
    "df_mod.describe()"
   ]
  },
  {
   "cell_type": "code",
   "execution_count": 25,
   "metadata": {},
   "outputs": [
    {
     "data": {
      "text/plain": [
       "list_year                0\n",
       "date_recorded            2\n",
       "town                     0\n",
       "address                 51\n",
       "assessed_value           0\n",
       "sale_amount              0\n",
       "sales_ratio              0\n",
       "property_type       382446\n",
       "residential_type    393884\n",
       "dtype: int64"
      ]
     },
     "execution_count": 25,
     "metadata": {},
     "output_type": "execute_result"
    }
   ],
   "source": [
    "df_mod.isnull().sum()"
   ]
  },
  {
   "cell_type": "code",
   "execution_count": 64,
   "metadata": {},
   "outputs": [
    {
     "name": "stdout",
     "output_type": "stream",
     "text": [
      "        list_year date_recorded        town                 address  \\\n",
      "123778       2021    2022-09-28   Waterford       15 NEW SHORE ROAD   \n",
      "123829       2021    2021-12-07    Westport       LYONS PLAINS ROAD   \n",
      "123849       2021    2022-02-04  Winchester  173 DANBURY QUARTER RD   \n",
      "123867       2021    2022-01-27      Weston      50 BUTTONBALL LANE   \n",
      "123896       2021    2022-05-06    Woodbury      69 BACON POND ROAD   \n",
      "\n",
      "        assessed_value  sale_amount  sales_ratio property_type  \\\n",
      "123778        103960.0     275000.0     0.378000   Vacant Land   \n",
      "123829         32700.0      25000.0     1.308000   Vacant Land   \n",
      "123849         40600.0      47500.0     0.854737   Vacant Land   \n",
      "123867        365720.0     625000.0     0.585100   Vacant Land   \n",
      "123896         79590.0     360000.0     0.221000   Vacant Land   \n",
      "\n",
      "       residential_type  \n",
      "123778              NaN  \n",
      "123829              NaN  \n",
      "123849              NaN  \n",
      "123867              NaN  \n",
      "123896              NaN  \n"
     ]
    }
   ],
   "source": [
    "select_value = 'Vacant Land'\n",
    "result = df_mod[df_mod['property_type'] == select_value]\n",
    "\n",
    "print(result.tail())"
   ]
  },
  {
   "cell_type": "code",
   "execution_count": 67,
   "metadata": {},
   "outputs": [
    {
     "data": {
      "text/plain": [
       "array(['Commercial', 'Residential', 'Vacant Land', nan, 'Apartments',\n",
       "       'Industrial', 'Public Utility', 'Condo', 'Two Family',\n",
       "       'Three Family', 'Single Family', 'Four Family'], dtype=object)"
      ]
     },
     "metadata": {},
     "output_type": "display_data"
    }
   ],
   "source": [
    "distinct_values = df_mod['property_type'].unique()\n",
    "display(distinct_values)"
   ]
  },
  {
   "cell_type": "code",
   "execution_count": 68,
   "metadata": {},
   "outputs": [
    {
     "data": {
      "text/plain": [
       "array([2020, 2021, 2001, 2002, 2003, 2004, 2005, 2006, 2007, 2008, 2009,\n",
       "       2010, 2011, 2012, 2013, 2014, 2015, 2016, 2017, 2018, 2019])"
      ]
     },
     "metadata": {},
     "output_type": "display_data"
    }
   ],
   "source": [
    "distinct_values = df_mod['list_year'].unique()\n",
    "display(distinct_values)"
   ]
  },
  {
   "cell_type": "code",
   "execution_count": 103,
   "metadata": {},
   "outputs": [
    {
     "name": "stdout",
     "output_type": "stream",
     "text": [
      "        list_year date_recorded          town                    address  \\\n",
      "2          2021.0    2022-07-05          Avon            53 COTSWOLD WAY   \n",
      "10         2021.0    2022-04-29     Bethlehem          89 LONG MEADOW RD   \n",
      "11         2021.0    2021-12-20    Bloomfield             43 LEDYARD AVE   \n",
      "16         2021.0    2021-10-20      Branford          25 QUARRY DOCK RD   \n",
      "17         2021.0    2022-01-14    Bridgeport         360 VINCELLETTE ST   \n",
      "...           ...           ...           ...                        ...   \n",
      "123892     2021.0    2022-03-22      Westport            140 EASTON ROAD   \n",
      "123893     2021.0    2022-08-03  Wethersfield              181 FOREST DR   \n",
      "123894     2021.0    2021-11-16     Watertown            50 SUMMIT RIDGE   \n",
      "123895     2021.0    2022-09-20      Woodbury  89 TAMARACK LANR UNIT 89A   \n",
      "123897     2021.0    2022-06-29    West Haven             114 TUTHILL ST   \n",
      "\n",
      "        assessed_value  sale_amount  sales_ratio property_type  \\\n",
      "2             329730.0     805000.0     0.409600   Residential   \n",
      "10            229900.0     561850.0     0.409100   Residential   \n",
      "11            111580.0     209000.0     0.533800   Residential   \n",
      "16            208100.0     448000.0     0.464500   Residential   \n",
      "17            160776.0     315000.0     0.510400   Residential   \n",
      "...                ...          ...          ...           ...   \n",
      "123892       1155800.0    1960000.0     0.589694   Residential   \n",
      "123893        137400.0     230000.0     0.597300   Residential   \n",
      "123894        263100.0     430000.0     0.611800   Residential   \n",
      "123895         79810.0     200000.0     0.399000   Residential   \n",
      "123897        117600.0     275000.0     0.427600   Residential   \n",
      "\n",
      "       residential_type  \n",
      "2         Single Family  \n",
      "10        Single Family  \n",
      "11        Single Family  \n",
      "16                Condo  \n",
      "17        Single Family  \n",
      "...                 ...  \n",
      "123892    Single Family  \n",
      "123893    Single Family  \n",
      "123894    Single Family  \n",
      "123895            Condo  \n",
      "123897    Single Family  \n",
      "\n",
      "[51371 rows x 9 columns]\n"
     ]
    }
   ],
   "source": [
    "df_grp = df_mod.where(df_mod['list_year'] == 2021)\n",
    "df_grp = df_grp.dropna()"
   ]
  },
  {
   "cell_type": "code",
   "execution_count": 105,
   "metadata": {},
   "outputs": [
    {
     "name": "stdout",
     "output_type": "stream",
     "text": [
      "                         assessed_value    sale_amount\n",
      "list_year town                                        \n",
      "2021.0    Ansonia         129553.086420  291105.740741\n",
      "          Avon            266762.389381  487133.567677\n",
      "          Barkhamsted     163332.631579  323568.807018\n",
      "          Berlin          187557.385507  339661.730435\n",
      "          Bethany         220897.058824  458987.635294\n",
      "...                                 ...            ...\n",
      "          Windsor         133124.053422  267701.218698\n",
      "          Windsor Locks   116437.722846  230289.973783\n",
      "          Wolcott         180046.792208  299032.737013\n",
      "          Woodbridge      272355.243902  569913.920732\n",
      "          Woodbury        199898.086124  436931.559809\n",
      "\n",
      "[140 rows x 2 columns]\n"
     ]
    }
   ],
   "source": [
    "df_grp1 = df_grp.groupby(['list_year', 'town'])[['assessed_value', 'sale_amount']].mean()\n",
    "print(df_grp1)"
   ]
  },
  {
   "cell_type": "code",
   "execution_count": 106,
   "metadata": {},
   "outputs": [
    {
     "data": {
      "text/plain": [
       "<Axes: xlabel='list_year,town'>"
      ]
     },
     "execution_count": 106,
     "metadata": {},
     "output_type": "execute_result"
    },
    {
     "data": {
      "image/png": "[encoded data removed]",
      "text/plain": [
       "<Figure size 640x480 with 1 Axes>"
      ]
     },
     "metadata": {},
     "output_type": "display_data"
    }
   ],
   "source": [
    "df_grp1.plot()"
   ]
  },
  {
   "cell_type": "code",
   "execution_count": 26,
   "metadata": {},
   "outputs": [
    {
     "data": {
      "text/plain": [
       "list_year                    int64\n",
       "date_recorded       datetime64[ns]\n",
       "town                        object\n",
       "address                     object\n",
       "assessed_value             float64\n",
       "sale_amount                float64\n",
       "sales_ratio                float64\n",
       "property_type               object\n",
       "residential_type            object\n",
       "dtype: object"
      ]
     },
     "execution_count": 26,
     "metadata": {},
     "output_type": "execute_result"
    }
   ],
   "source": [
    "df_mod.dtypes"
   ]
  },
  {
   "cell_type": "code",
   "execution_count": 29,
   "metadata": {},
   "outputs": [],
   "source": [
    "table = pa.Table.from_pandas(df_mod)"
   ]
  },
  {
   "cell_type": "code",
   "execution_count": 30,
   "metadata": {},
   "outputs": [],
   "source": [
    "# Define the Parquet file path\n",
    "parquet_path = './data/parquet/'"
   ]
  },
  {
   "cell_type": "code",
   "execution_count": 31,
   "metadata": {},
   "outputs": [],
   "source": [
    "# Write partitioned Parquet file\n",
    "pq.write_to_dataset(table, root_path=parquet_path, partition_cols=['list_year'])\n"
   ]
  },
  {
   "cell_type": "code",
   "execution_count": null,
   "metadata": {},
   "outputs": [],
   "source": []
  }
 ],
 "metadata": {
  "kernelspec": {
   "display_name": "zoom_project",
   "language": "python",
   "name": "python3"
  },
  "language_info": {
   "codemirror_mode": {
    "name": "ipython",
    "version": 3
   },
   "file_extension": ".py",
   "mimetype": "text/x-python",
   "name": "python",
   "nbconvert_exporter": "python",
   "pygments_lexer": "ipython3",
   "version": "3.9.19"
  }
 },
 "nbformat": 4,
 "nbformat_minor": 2
}
